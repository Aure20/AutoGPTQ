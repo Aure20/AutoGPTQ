{
 "cells": [
  {
   "cell_type": "code",
   "execution_count": 39,
   "metadata": {},
   "outputs": [],
   "source": [
    "import torch\n",
    "import torch.nn as nn\n",
    "\n",
    "def quantize(x, bits, dev = 'cpu'):\n",
    "    maxq = torch.tensor(2**bits - 1)\n",
    "\n",
    "    tmp = torch.zeros(x.shape[0], device=dev)\n",
    "    xmin = torch.minimum(x.min(1)[0], tmp) #Rowwise minimums\n",
    "    xmax = torch.maximum(x.max(1)[0], tmp) #Rowwise minimums\n",
    "\n",
    "    tmp = (xmin == 0) & (xmax == 0)\n",
    "    xmin[tmp] = -1\n",
    "    xmax[tmp] = +1\n",
    "\n",
    "    if maxq < 0:\n",
    "        scale = xmax\n",
    "        zero = xmin\n",
    "    else:\n",
    "        scale = (xmax - xmin) / maxq\n",
    "        zero = torch.round(-xmin / scale)\n",
    "\n",
    "    if maxq < 0:\n",
    "        return (x > scale / 2).float() * scale + (x < zero / 2).float() * zero\n",
    "    \n",
    "    q = torch.clamp(torch.round(x / scale) + zero, 0, maxq)\n",
    "    return scale * (q - zero)"
   ]
  },
  {
   "cell_type": "markdown",
   "metadata": {},
   "source": [
    "Greedy column reordering and quantization"
   ]
  },
  {
   "cell_type": "code",
   "execution_count": 60,
   "metadata": {},
   "outputs": [
    {
     "name": "stdout",
     "output_type": "stream",
     "text": [
      "tensor(99.7150)\n",
      "tensor(97.9941)\n"
     ]
    }
   ],
   "source": [
    "#torch.manual_seed(0)\n",
    "size = 100\n",
    "\n",
    "#Split quantization without reordering\n",
    "A = torch.randn(size,size)\n",
    "B = torch.randn(size,size)\n",
    "B2 = torch.clone(B)\n",
    "out = torch.matmul(A,B)\n",
    "\n",
    "B4 = quantize(B,4)\n",
    "B8 = quantize(B,8)\n",
    " \n",
    "B[:,size//2:size] = B4[:,size//2:size]\n",
    "B[:,:size//2] = B8[:,:size//2] \n",
    "\n",
    "test_out = torch.matmul(A,B)\n",
    "\n",
    "#Find largest columns by means\n",
    "largest_col = torch.argsort(-torch.mean(A,axis=0))\n",
    "\n",
    "#Reorder columns according to their mean\n",
    "A = A[:,largest_col] \n",
    "B = B2[largest_col,:]\n",
    "\n",
    "B4 = quantize(B,4)\n",
    "B8 = quantize(B,8)\n",
    " \n",
    "B[:,size//2:size] = B4[:,size//2:size]\n",
    "B[:,:size//2] = B8[:,:size//2] \n",
    "\n",
    "quantOut = torch.matmul(A,B)\n",
    "\n",
    "error = torch.norm(out - test_out)\n",
    "print(error)\n",
    "\n",
    "error = torch.norm(out - quantOut)\n",
    "print(error)\n",
    "\n",
    "#2.8505\n",
    "#2.8109"
   ]
  }
 ],
 "metadata": {
  "kernelspec": {
   "display_name": "Python 3",
   "language": "python",
   "name": "python3"
  },
  "language_info": {
   "codemirror_mode": {
    "name": "ipython",
    "version": 3
   },
   "file_extension": ".py",
   "mimetype": "text/x-python",
   "name": "python",
   "nbconvert_exporter": "python",
   "pygments_lexer": "ipython3",
   "version": "3.9.13"
  }
 },
 "nbformat": 4,
 "nbformat_minor": 2
}
